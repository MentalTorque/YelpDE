{
 "cells": [
  {
   "cell_type": "code",
   "execution_count": 80,
   "metadata": {},
   "outputs": [],
   "source": [
    "# Standard Imports\n",
    "import numpy as np\n",
    "import pandas as pd\n",
    "import matplotlib.pyplot as plt\n",
    "import seaborn as sns\n",
    "# Additional Imports\n",
    "import os, json, math, time\n",
    "from yelpapi import YelpAPI\n",
    "from tqdm.notebook import tqdm_notebook"
   ]
  },
  {
   "cell_type": "code",
   "execution_count": 81,
   "metadata": {},
   "outputs": [],
   "source": [
    "# Load API Credentials\n",
    "with open('/Users/staichn/.secret/yelp_api.json') as f:   #use your path here!\n",
    "    login = json.load(f)\n",
    "# Instantiate YelpAPI Variable\n",
    "yelp_api = YelpAPI(login['api-key'], timeout_s=5.0)"
   ]
  },
  {
   "cell_type": "code",
   "execution_count": 82,
   "metadata": {},
   "outputs": [],
   "source": [
    "# set our API call parameters and filename before the first call\n",
    "LOCATION = 'Philadelphia, PA'\n",
    "TERM = 'Cheese Steaks'"
   ]
  },
  {
   "cell_type": "code",
   "execution_count": 83,
   "metadata": {},
   "outputs": [
    {
     "data": {
      "text/plain": [
       "'Data/results_in_progress_Cheese_Steaks.json'"
      ]
     },
     "execution_count": 83,
     "metadata": {},
     "output_type": "execute_result"
    }
   ],
   "source": [
    "# Specifying JSON_FILE filename (can include a folder)\n",
    "# include the search terms in the filename\n",
    "JSON_FILE = f\"Data/results_in_progress_Cheese_Steaks.json\"\n",
    "JSON_FILE"
   ]
  },
  {
   "cell_type": "code",
   "execution_count": 84,
   "metadata": {},
   "outputs": [
    {
     "name": "stdout",
     "output_type": "stream",
     "text": [
      "[i] Data/results_in_progress_Cheese_Steaks.json already exists.\n"
     ]
    }
   ],
   "source": [
    "## Check if JSON_FILE exists\n",
    "file_exists = os.path.isfile(JSON_FILE)\n",
    "## If it does not exist: \n",
    "if file_exists == False:\n",
    "    \n",
    "    ## CREATE ANY NEEDED FOLDERS\n",
    "    # Get the Folder Name only\n",
    "    folder = os.path.dirname(JSON_FILE)\n",
    "    ## If JSON_FILE included a folder:\n",
    "    if len(folder)>0:\n",
    "        # create the folder\n",
    "        os.makedirs(folder,exist_ok=True)\n",
    "        \n",
    "        \n",
    "    ## INFORM USER AND SAVE EMPTY LIST\n",
    "    print(f\"[i] {JSON_FILE} not found. Saving empty list to file.\")\n",
    "    \n",
    "    \n",
    "    ## save the first page of results\n",
    "    with open(JSON_FILE,'w') as f:\n",
    "        json.dump([],f)  \n",
    "## If it exists, inform user\n",
    "else:\n",
    "    print(f\"[i] {JSON_FILE} already exists.\")"
   ]
  },
  {
   "cell_type": "code",
   "execution_count": 85,
   "metadata": {},
   "outputs": [
    {
     "name": "stdout",
     "output_type": "stream",
     "text": [
      "- 1080 previous results found.\n"
     ]
    }
   ],
   "source": [
    "## Load previous results and use len of results for offset\n",
    "with open(JSON_FILE,'r') as f:\n",
    "    previous_results = json.load(f)\n",
    "    \n",
    "## set offset based on previous results\n",
    "n_results = len(previous_results)\n",
    "print(f'- {n_results} previous results found.')"
   ]
  },
  {
   "cell_type": "code",
   "execution_count": 87,
   "metadata": {},
   "outputs": [
    {
     "ename": "YelpAPIError",
     "evalue": "VALIDATION_ERROR: 1080 is greater than the maximum of 1000",
     "output_type": "error",
     "traceback": [
      "\u001b[1;31m---------------------------------------------------------------------------\u001b[0m",
      "\u001b[1;31mYelpAPIError\u001b[0m                              Traceback (most recent call last)",
      "\u001b[1;32m~\\AppData\\Local\\Temp\\ipykernel_56568\\1501230967.py\u001b[0m in \u001b[0;36m<module>\u001b[1;34m\u001b[0m\n\u001b[0;32m      2\u001b[0m eff_results = yelp_api.search_query(location=LOCATION,\n\u001b[0;32m      3\u001b[0m                                 \u001b[0mterm\u001b[0m\u001b[1;33m=\u001b[0m\u001b[0mTERM\u001b[0m\u001b[1;33m,\u001b[0m\u001b[1;33m\u001b[0m\u001b[1;33m\u001b[0m\u001b[0m\n\u001b[1;32m----> 4\u001b[1;33m                                offset=n_results)\n\u001b[0m\u001b[0;32m      5\u001b[0m \u001b[0meff_results\u001b[0m\u001b[1;33m.\u001b[0m\u001b[0mkeys\u001b[0m\u001b[1;33m(\u001b[0m\u001b[1;33m)\u001b[0m\u001b[1;33m\u001b[0m\u001b[1;33m\u001b[0m\u001b[0m\n",
      "\u001b[1;32mc:\\Users\\staichn\\Anaconda3\\envs\\dojo-env\\lib\\site-packages\\yelpapi\\yelpapi.py\u001b[0m in \u001b[0;36msearch_query\u001b[1;34m(self, **kwargs)\u001b[0m\n\u001b[0;32m    232\u001b[0m                              '(parameters \"latitude\" and \"longitude\") must be provided.')\n\u001b[0;32m    233\u001b[0m \u001b[1;33m\u001b[0m\u001b[0m\n\u001b[1;32m--> 234\u001b[1;33m         \u001b[1;32mreturn\u001b[0m \u001b[0mself\u001b[0m\u001b[1;33m.\u001b[0m\u001b[0m_query\u001b[0m\u001b[1;33m(\u001b[0m\u001b[0mSEARCH_API_URL\u001b[0m\u001b[1;33m,\u001b[0m \u001b[1;33m**\u001b[0m\u001b[0mkwargs\u001b[0m\u001b[1;33m)\u001b[0m\u001b[1;33m\u001b[0m\u001b[1;33m\u001b[0m\u001b[0m\n\u001b[0m\u001b[0;32m    235\u001b[0m \u001b[1;33m\u001b[0m\u001b[0m\n\u001b[0;32m    236\u001b[0m     \u001b[1;32mdef\u001b[0m \u001b[0mtransaction_search_query\u001b[0m\u001b[1;33m(\u001b[0m\u001b[0mself\u001b[0m\u001b[1;33m,\u001b[0m \u001b[0mtransaction_type\u001b[0m\u001b[1;33m,\u001b[0m \u001b[1;33m**\u001b[0m\u001b[0mkwargs\u001b[0m\u001b[1;33m)\u001b[0m\u001b[1;33m:\u001b[0m\u001b[1;33m\u001b[0m\u001b[1;33m\u001b[0m\u001b[0m\n",
      "\u001b[1;32mc:\\Users\\staichn\\Anaconda3\\envs\\dojo-env\\lib\\site-packages\\yelpapi\\yelpapi.py\u001b[0m in \u001b[0;36m_query\u001b[1;34m(self, url, **kwargs)\u001b[0m\n\u001b[0;32m    281\u001b[0m         \u001b[1;32mif\u001b[0m \u001b[1;34m'error'\u001b[0m \u001b[1;32min\u001b[0m \u001b[0mresponse_json\u001b[0m\u001b[1;33m:\u001b[0m\u001b[1;33m\u001b[0m\u001b[1;33m\u001b[0m\u001b[0m\n\u001b[0;32m    282\u001b[0m             raise YelpAPI.YelpAPIError('{}: {}'.format(response_json['error']['code'],\n\u001b[1;32m--> 283\u001b[1;33m                                                        response_json['error']['description']))\n\u001b[0m\u001b[0;32m    284\u001b[0m \u001b[1;33m\u001b[0m\u001b[0m\n\u001b[0;32m    285\u001b[0m         \u001b[1;31m# we got a good response, so return\u001b[0m\u001b[1;33m\u001b[0m\u001b[1;33m\u001b[0m\u001b[1;33m\u001b[0m\u001b[0m\n",
      "\u001b[1;31mYelpAPIError\u001b[0m: VALIDATION_ERROR: 1080 is greater than the maximum of 1000"
     ]
    }
   ],
   "source": [
    "# use our yelp_api variable's search_query method to perform our API call\n",
    "eff_results = yelp_api.search_query(location=LOCATION,\n",
    "                                term=TERM,\n",
    "                               offset=n_results)\n",
    "eff_results.keys()"
   ]
  },
  {
   "cell_type": "code",
   "execution_count": null,
   "metadata": {},
   "outputs": [
    {
     "data": {
      "text/plain": [
       "1100"
      ]
     },
     "execution_count": 72,
     "metadata": {},
     "output_type": "execute_result"
    }
   ],
   "source": [
    "## How many results total?\n",
    "total_results = eff_results['total']\n",
    "total_results"
   ]
  },
  {
   "cell_type": "code",
   "execution_count": 89,
   "metadata": {},
   "outputs": [
    {
     "data": {
      "text/plain": [
       "20"
      ]
     },
     "execution_count": 89,
     "metadata": {},
     "output_type": "execute_result"
    }
   ],
   "source": [
    "## How many did we get the details for?\n",
    "results_per_page = len(eff_results['businesses'])\n",
    "results_per_page"
   ]
  },
  {
   "cell_type": "code",
   "execution_count": 90,
   "metadata": {},
   "outputs": [
    {
     "data": {
      "text/plain": [
       "1"
      ]
     },
     "execution_count": 90,
     "metadata": {},
     "output_type": "execute_result"
    }
   ],
   "source": [
    "# Import additional packages for controlling our loop\n",
    "import time, math\n",
    "# Use math.ceil to round up for the total number of pages of results.\n",
    "n_pages = math.ceil((eff_results['total']-n_results)/ results_per_page)\n",
    "n_pages"
   ]
  },
  {
   "cell_type": "code",
   "execution_count": 91,
   "metadata": {},
   "outputs": [],
   "source": [
    "# join new results with old list with extend and save to file\n",
    "previous_results.extend(eff_results['businesses'])  \n",
    "with open(JSON_FILE,'w') as f:\n",
    "     json.dump(previous_results,f)"
   ]
  },
  {
   "cell_type": "code",
   "execution_count": 92,
   "metadata": {},
   "outputs": [
    {
     "data": {
      "application/vnd.jupyter.widget-view+json": {
       "model_id": "61b1d272753f4354a4f7e642ae686321",
       "version_major": 2,
       "version_minor": 0
      },
      "text/plain": [
       "  0%|          | 0/1 [00:00<?, ?it/s]"
      ]
     },
     "metadata": {},
     "output_type": "display_data"
    },
    {
     "ename": "YelpAPIError",
     "evalue": "VALIDATION_ERROR: 1100 is greater than the maximum of 1000",
     "output_type": "error",
     "traceback": [
      "\u001b[1;31m---------------------------------------------------------------------------\u001b[0m",
      "\u001b[1;31mYelpAPIError\u001b[0m                              Traceback (most recent call last)",
      "\u001b[1;32m~\\AppData\\Local\\Temp\\ipykernel_56568\\813829138.py\u001b[0m in \u001b[0;36m<module>\u001b[1;34m\u001b[0m\n\u001b[0;32m      9\u001b[0m     results = yelp_api.search_query(location=LOCATION,\n\u001b[0;32m     10\u001b[0m                                     \u001b[0mterm\u001b[0m\u001b[1;33m=\u001b[0m\u001b[0mTERM\u001b[0m\u001b[1;33m,\u001b[0m\u001b[1;33m\u001b[0m\u001b[1;33m\u001b[0m\u001b[0m\n\u001b[1;32m---> 11\u001b[1;33m                                     offset=n_results)\n\u001b[0m\u001b[0;32m     12\u001b[0m \u001b[1;33m\u001b[0m\u001b[0m\n\u001b[0;32m     13\u001b[0m     \u001b[1;31m## append new results and save to file\u001b[0m\u001b[1;33m\u001b[0m\u001b[1;33m\u001b[0m\u001b[1;33m\u001b[0m\u001b[0m\n",
      "\u001b[1;32mc:\\Users\\staichn\\Anaconda3\\envs\\dojo-env\\lib\\site-packages\\yelpapi\\yelpapi.py\u001b[0m in \u001b[0;36msearch_query\u001b[1;34m(self, **kwargs)\u001b[0m\n\u001b[0;32m    232\u001b[0m                              '(parameters \"latitude\" and \"longitude\") must be provided.')\n\u001b[0;32m    233\u001b[0m \u001b[1;33m\u001b[0m\u001b[0m\n\u001b[1;32m--> 234\u001b[1;33m         \u001b[1;32mreturn\u001b[0m \u001b[0mself\u001b[0m\u001b[1;33m.\u001b[0m\u001b[0m_query\u001b[0m\u001b[1;33m(\u001b[0m\u001b[0mSEARCH_API_URL\u001b[0m\u001b[1;33m,\u001b[0m \u001b[1;33m**\u001b[0m\u001b[0mkwargs\u001b[0m\u001b[1;33m)\u001b[0m\u001b[1;33m\u001b[0m\u001b[1;33m\u001b[0m\u001b[0m\n\u001b[0m\u001b[0;32m    235\u001b[0m \u001b[1;33m\u001b[0m\u001b[0m\n\u001b[0;32m    236\u001b[0m     \u001b[1;32mdef\u001b[0m \u001b[0mtransaction_search_query\u001b[0m\u001b[1;33m(\u001b[0m\u001b[0mself\u001b[0m\u001b[1;33m,\u001b[0m \u001b[0mtransaction_type\u001b[0m\u001b[1;33m,\u001b[0m \u001b[1;33m**\u001b[0m\u001b[0mkwargs\u001b[0m\u001b[1;33m)\u001b[0m\u001b[1;33m:\u001b[0m\u001b[1;33m\u001b[0m\u001b[1;33m\u001b[0m\u001b[0m\n",
      "\u001b[1;32mc:\\Users\\staichn\\Anaconda3\\envs\\dojo-env\\lib\\site-packages\\yelpapi\\yelpapi.py\u001b[0m in \u001b[0;36m_query\u001b[1;34m(self, url, **kwargs)\u001b[0m\n\u001b[0;32m    281\u001b[0m         \u001b[1;32mif\u001b[0m \u001b[1;34m'error'\u001b[0m \u001b[1;32min\u001b[0m \u001b[0mresponse_json\u001b[0m\u001b[1;33m:\u001b[0m\u001b[1;33m\u001b[0m\u001b[1;33m\u001b[0m\u001b[0m\n\u001b[0;32m    282\u001b[0m             raise YelpAPI.YelpAPIError('{}: {}'.format(response_json['error']['code'],\n\u001b[1;32m--> 283\u001b[1;33m                                                        response_json['error']['description']))\n\u001b[0m\u001b[0;32m    284\u001b[0m \u001b[1;33m\u001b[0m\u001b[0m\n\u001b[0;32m    285\u001b[0m         \u001b[1;31m# we got a good response, so return\u001b[0m\u001b[1;33m\u001b[0m\u001b[1;33m\u001b[0m\u001b[1;33m\u001b[0m\u001b[0m\n",
      "\u001b[1;31mYelpAPIError\u001b[0m: VALIDATION_ERROR: 1100 is greater than the maximum of 1000"
     ]
    }
   ],
   "source": [
    "for i in tqdm_notebook( range(1,n_pages+1)):\n",
    "    time.sleep(.2)\n",
    "    ## Read in results in progress file and check the length\n",
    "    with open(JSON_FILE, 'r') as f:\n",
    "        previous_results = json.load(f)\n",
    "    ## save number of results for to use as offset\n",
    "    n_results = len(previous_results)\n",
    "    ## use n_results as the OFFSET \n",
    "    results = yelp_api.search_query(location=LOCATION,\n",
    "                                    term=TERM, \n",
    "                                    offset=n_results)\n",
    "    \n",
    "    ## append new results and save to file\n",
    "    previous_results.extend(eff_results['businesses'])\n",
    "    \n",
    "#     display(previous_results)\n",
    "    with open(JSON_FILE,'w') as f:\n",
    "        json.dump(previous_results,f)"
   ]
  },
  {
   "cell_type": "code",
   "execution_count": 93,
   "metadata": {},
   "outputs": [
    {
     "data": {
      "text/html": [
       "<div>\n",
       "<style scoped>\n",
       "    .dataframe tbody tr th:only-of-type {\n",
       "        vertical-align: middle;\n",
       "    }\n",
       "\n",
       "    .dataframe tbody tr th {\n",
       "        vertical-align: top;\n",
       "    }\n",
       "\n",
       "    .dataframe thead th {\n",
       "        text-align: right;\n",
       "    }\n",
       "</style>\n",
       "<table border=\"1\" class=\"dataframe\">\n",
       "  <thead>\n",
       "    <tr style=\"text-align: right;\">\n",
       "      <th></th>\n",
       "      <th>id</th>\n",
       "      <th>alias</th>\n",
       "      <th>name</th>\n",
       "      <th>image_url</th>\n",
       "      <th>is_closed</th>\n",
       "      <th>url</th>\n",
       "      <th>review_count</th>\n",
       "      <th>categories</th>\n",
       "      <th>rating</th>\n",
       "      <th>coordinates</th>\n",
       "      <th>transactions</th>\n",
       "      <th>price</th>\n",
       "      <th>location</th>\n",
       "      <th>phone</th>\n",
       "      <th>display_phone</th>\n",
       "      <th>distance</th>\n",
       "    </tr>\n",
       "  </thead>\n",
       "  <tbody>\n",
       "    <tr>\n",
       "      <th>0</th>\n",
       "      <td>RQAF6a0akMiot5lZZnMNNw</td>\n",
       "      <td>dalessandro-s-steaks-and-hoagies-philadelphia</td>\n",
       "      <td>Dalessandro’s Steaks &amp; Hoagies</td>\n",
       "      <td>https://s3-media1.fl.yelpcdn.com/bphoto/MRvZIW...</td>\n",
       "      <td>False</td>\n",
       "      <td>https://www.yelp.com/biz/dalessandro-s-steaks-...</td>\n",
       "      <td>2775</td>\n",
       "      <td>[{'alias': 'sandwiches', 'title': 'Sandwiches'...</td>\n",
       "      <td>4.0</td>\n",
       "      <td>{'latitude': 40.029494, 'longitude': -75.2059714}</td>\n",
       "      <td>[delivery]</td>\n",
       "      <td>$$</td>\n",
       "      <td>{'address1': '600 Wendover St', 'address2': ''...</td>\n",
       "      <td>12154825407</td>\n",
       "      <td>(215) 482-5407</td>\n",
       "      <td>8924.599279</td>\n",
       "    </tr>\n",
       "    <tr>\n",
       "      <th>1</th>\n",
       "      <td>jxEMFqwDJXjCxmcm5t5jVQ</td>\n",
       "      <td>cleavers-philadelphia</td>\n",
       "      <td>Cleavers</td>\n",
       "      <td>https://s3-media3.fl.yelpcdn.com/bphoto/TRyWS_...</td>\n",
       "      <td>False</td>\n",
       "      <td>https://www.yelp.com/biz/cleavers-philadelphia...</td>\n",
       "      <td>1360</td>\n",
       "      <td>[{'alias': 'cheesesteaks', 'title': 'Cheeseste...</td>\n",
       "      <td>4.0</td>\n",
       "      <td>{'latitude': 39.9513931274414, 'longitude': -7...</td>\n",
       "      <td>[pickup, delivery]</td>\n",
       "      <td>$$</td>\n",
       "      <td>{'address1': '108 S 18th St', 'address2': '', ...</td>\n",
       "      <td>12155153828</td>\n",
       "      <td>(215) 515-3828</td>\n",
       "      <td>268.685385</td>\n",
       "    </tr>\n",
       "    <tr>\n",
       "      <th>2</th>\n",
       "      <td>-mIlmp5l4hKlp1tvHRdvTg</td>\n",
       "      <td>sonnys-famous-steaks-philadelphia</td>\n",
       "      <td>Sonny's Famous Steaks</td>\n",
       "      <td>https://s3-media2.fl.yelpcdn.com/bphoto/c333HA...</td>\n",
       "      <td>False</td>\n",
       "      <td>https://www.yelp.com/biz/sonnys-famous-steaks-...</td>\n",
       "      <td>1731</td>\n",
       "      <td>[{'alias': 'cheesesteaks', 'title': 'Cheeseste...</td>\n",
       "      <td>4.0</td>\n",
       "      <td>{'latitude': 39.949917853807904, 'longitude': ...</td>\n",
       "      <td>[pickup, delivery]</td>\n",
       "      <td>$$</td>\n",
       "      <td>{'address1': '228 Market St', 'address2': '', ...</td>\n",
       "      <td>12156295760</td>\n",
       "      <td>(215) 629-5760</td>\n",
       "      <td>2291.962216</td>\n",
       "    </tr>\n",
       "    <tr>\n",
       "      <th>3</th>\n",
       "      <td>q-zV08jt6U-q05SMEuQJAQ</td>\n",
       "      <td>the-original-tony-lukes-philadelphia-2</td>\n",
       "      <td>The Original Tony Lukes</td>\n",
       "      <td>https://s3-media4.fl.yelpcdn.com/bphoto/02xz11...</td>\n",
       "      <td>False</td>\n",
       "      <td>https://www.yelp.com/biz/the-original-tony-luk...</td>\n",
       "      <td>1932</td>\n",
       "      <td>[{'alias': 'sandwiches', 'title': 'Sandwiches'...</td>\n",
       "      <td>4.0</td>\n",
       "      <td>{'latitude': 39.9141065085686, 'longitude': -7...</td>\n",
       "      <td>[delivery, pickup]</td>\n",
       "      <td>$$</td>\n",
       "      <td>{'address1': '39 E Oregon Ave', 'address2': ''...</td>\n",
       "      <td>12155515725</td>\n",
       "      <td>(215) 551-5725</td>\n",
       "      <td>4809.971510</td>\n",
       "    </tr>\n",
       "    <tr>\n",
       "      <th>4</th>\n",
       "      <td>LM54ufrINJWoTN5imV8Etw</td>\n",
       "      <td>johns-roast-pork-philadelphia</td>\n",
       "      <td>John's Roast Pork</td>\n",
       "      <td>https://s3-media4.fl.yelpcdn.com/bphoto/C5APCS...</td>\n",
       "      <td>False</td>\n",
       "      <td>https://www.yelp.com/biz/johns-roast-pork-phil...</td>\n",
       "      <td>1610</td>\n",
       "      <td>[{'alias': 'sandwiches', 'title': 'Sandwiches'...</td>\n",
       "      <td>4.5</td>\n",
       "      <td>{'latitude': 39.9210273851256, 'longitude': -7...</td>\n",
       "      <td>[delivery]</td>\n",
       "      <td>$$</td>\n",
       "      <td>{'address1': '14 E Snyder Ave', 'address2': ''...</td>\n",
       "      <td>12154631951</td>\n",
       "      <td>(215) 463-1951</td>\n",
       "      <td>4271.479109</td>\n",
       "    </tr>\n",
       "  </tbody>\n",
       "</table>\n",
       "</div>"
      ],
      "text/plain": [
       "                       id                                          alias  \\\n",
       "0  RQAF6a0akMiot5lZZnMNNw  dalessandro-s-steaks-and-hoagies-philadelphia   \n",
       "1  jxEMFqwDJXjCxmcm5t5jVQ                          cleavers-philadelphia   \n",
       "2  -mIlmp5l4hKlp1tvHRdvTg              sonnys-famous-steaks-philadelphia   \n",
       "3  q-zV08jt6U-q05SMEuQJAQ         the-original-tony-lukes-philadelphia-2   \n",
       "4  LM54ufrINJWoTN5imV8Etw                  johns-roast-pork-philadelphia   \n",
       "\n",
       "                             name  \\\n",
       "0  Dalessandro’s Steaks & Hoagies   \n",
       "1                        Cleavers   \n",
       "2           Sonny's Famous Steaks   \n",
       "3         The Original Tony Lukes   \n",
       "4               John's Roast Pork   \n",
       "\n",
       "                                           image_url  is_closed  \\\n",
       "0  https://s3-media1.fl.yelpcdn.com/bphoto/MRvZIW...      False   \n",
       "1  https://s3-media3.fl.yelpcdn.com/bphoto/TRyWS_...      False   \n",
       "2  https://s3-media2.fl.yelpcdn.com/bphoto/c333HA...      False   \n",
       "3  https://s3-media4.fl.yelpcdn.com/bphoto/02xz11...      False   \n",
       "4  https://s3-media4.fl.yelpcdn.com/bphoto/C5APCS...      False   \n",
       "\n",
       "                                                 url  review_count  \\\n",
       "0  https://www.yelp.com/biz/dalessandro-s-steaks-...          2775   \n",
       "1  https://www.yelp.com/biz/cleavers-philadelphia...          1360   \n",
       "2  https://www.yelp.com/biz/sonnys-famous-steaks-...          1731   \n",
       "3  https://www.yelp.com/biz/the-original-tony-luk...          1932   \n",
       "4  https://www.yelp.com/biz/johns-roast-pork-phil...          1610   \n",
       "\n",
       "                                          categories  rating  \\\n",
       "0  [{'alias': 'sandwiches', 'title': 'Sandwiches'...     4.0   \n",
       "1  [{'alias': 'cheesesteaks', 'title': 'Cheeseste...     4.0   \n",
       "2  [{'alias': 'cheesesteaks', 'title': 'Cheeseste...     4.0   \n",
       "3  [{'alias': 'sandwiches', 'title': 'Sandwiches'...     4.0   \n",
       "4  [{'alias': 'sandwiches', 'title': 'Sandwiches'...     4.5   \n",
       "\n",
       "                                         coordinates        transactions  \\\n",
       "0  {'latitude': 40.029494, 'longitude': -75.2059714}          [delivery]   \n",
       "1  {'latitude': 39.9513931274414, 'longitude': -7...  [pickup, delivery]   \n",
       "2  {'latitude': 39.949917853807904, 'longitude': ...  [pickup, delivery]   \n",
       "3  {'latitude': 39.9141065085686, 'longitude': -7...  [delivery, pickup]   \n",
       "4  {'latitude': 39.9210273851256, 'longitude': -7...          [delivery]   \n",
       "\n",
       "  price                                           location        phone  \\\n",
       "0    $$  {'address1': '600 Wendover St', 'address2': ''...  12154825407   \n",
       "1    $$  {'address1': '108 S 18th St', 'address2': '', ...  12155153828   \n",
       "2    $$  {'address1': '228 Market St', 'address2': '', ...  12156295760   \n",
       "3    $$  {'address1': '39 E Oregon Ave', 'address2': ''...  12155515725   \n",
       "4    $$  {'address1': '14 E Snyder Ave', 'address2': ''...  12154631951   \n",
       "\n",
       "    display_phone     distance  \n",
       "0  (215) 482-5407  8924.599279  \n",
       "1  (215) 515-3828   268.685385  \n",
       "2  (215) 629-5760  2291.962216  \n",
       "3  (215) 551-5725  4809.971510  \n",
       "4  (215) 463-1951  4271.479109  "
      ]
     },
     "metadata": {},
     "output_type": "display_data"
    },
    {
     "data": {
      "text/html": [
       "<div>\n",
       "<style scoped>\n",
       "    .dataframe tbody tr th:only-of-type {\n",
       "        vertical-align: middle;\n",
       "    }\n",
       "\n",
       "    .dataframe tbody tr th {\n",
       "        vertical-align: top;\n",
       "    }\n",
       "\n",
       "    .dataframe thead th {\n",
       "        text-align: right;\n",
       "    }\n",
       "</style>\n",
       "<table border=\"1\" class=\"dataframe\">\n",
       "  <thead>\n",
       "    <tr style=\"text-align: right;\">\n",
       "      <th></th>\n",
       "      <th>id</th>\n",
       "      <th>alias</th>\n",
       "      <th>name</th>\n",
       "      <th>image_url</th>\n",
       "      <th>is_closed</th>\n",
       "      <th>url</th>\n",
       "      <th>review_count</th>\n",
       "      <th>categories</th>\n",
       "      <th>rating</th>\n",
       "      <th>coordinates</th>\n",
       "      <th>transactions</th>\n",
       "      <th>price</th>\n",
       "      <th>location</th>\n",
       "      <th>phone</th>\n",
       "      <th>display_phone</th>\n",
       "      <th>distance</th>\n",
       "    </tr>\n",
       "  </thead>\n",
       "  <tbody>\n",
       "    <tr>\n",
       "      <th>1095</th>\n",
       "      <td>4wq9bzoCe3Mh0cPbYH1eDg</td>\n",
       "      <td>maxs-steaks-philadelphia</td>\n",
       "      <td>Max's Steaks</td>\n",
       "      <td>https://s3-media2.fl.yelpcdn.com/bphoto/OhGLUP...</td>\n",
       "      <td>False</td>\n",
       "      <td>https://www.yelp.com/biz/maxs-steaks-philadelp...</td>\n",
       "      <td>708</td>\n",
       "      <td>[{'alias': 'sandwiches', 'title': 'Sandwiches'...</td>\n",
       "      <td>4.0</td>\n",
       "      <td>{'latitude': 40.009045, 'longitude': -75.150471}</td>\n",
       "      <td>[]</td>\n",
       "      <td>$$</td>\n",
       "      <td>{'address1': '3653 Germantown Ave', 'address2'...</td>\n",
       "      <td>12152299048</td>\n",
       "      <td>(215) 229-9048</td>\n",
       "      <td>6393.814388</td>\n",
       "    </tr>\n",
       "    <tr>\n",
       "      <th>1096</th>\n",
       "      <td>FHSbZ0-vZbbrMDWVpbyXgA</td>\n",
       "      <td>delco-steaks-broomall</td>\n",
       "      <td>DELCO Steaks</td>\n",
       "      <td>https://s3-media2.fl.yelpcdn.com/bphoto/RBt1c3...</td>\n",
       "      <td>False</td>\n",
       "      <td>https://www.yelp.com/biz/delco-steaks-broomall...</td>\n",
       "      <td>79</td>\n",
       "      <td>[{'alias': 'cheesesteaks', 'title': 'Cheeseste...</td>\n",
       "      <td>4.0</td>\n",
       "      <td>{'latitude': 39.981967, 'longitude': -75.359919}</td>\n",
       "      <td>[pickup, delivery]</td>\n",
       "      <td>NaN</td>\n",
       "      <td>{'address1': '2567 West Chester Pike', 'addres...</td>\n",
       "      <td>16103561192</td>\n",
       "      <td>(610) 356-1192</td>\n",
       "      <td>16383.248494</td>\n",
       "    </tr>\n",
       "    <tr>\n",
       "      <th>1097</th>\n",
       "      <td>kkcQYuF3w5iHnHMf0EnRhQ</td>\n",
       "      <td>joes-steaks-soda-shop-philadelphia-3</td>\n",
       "      <td>Joe's Steaks + Soda Shop</td>\n",
       "      <td>https://s3-media1.fl.yelpcdn.com/bphoto/5wjoux...</td>\n",
       "      <td>False</td>\n",
       "      <td>https://www.yelp.com/biz/joes-steaks-soda-shop...</td>\n",
       "      <td>386</td>\n",
       "      <td>[{'alias': 'cheesesteaks', 'title': 'Cheeseste...</td>\n",
       "      <td>4.5</td>\n",
       "      <td>{'latitude': 40.01854, 'longitude': -75.05816}</td>\n",
       "      <td>[pickup, delivery]</td>\n",
       "      <td>$</td>\n",
       "      <td>{'address1': '6030 Torresdale Ave', 'address2'...</td>\n",
       "      <td>12155359405</td>\n",
       "      <td>(215) 535-9405</td>\n",
       "      <td>12025.043452</td>\n",
       "    </tr>\n",
       "    <tr>\n",
       "      <th>1098</th>\n",
       "      <td>38nwm38VsT5ABneQE-elxg</td>\n",
       "      <td>jays-steak-and-hoagie-joint-langhorne-3</td>\n",
       "      <td>Jay's Steak &amp; Hoagie Joint</td>\n",
       "      <td>https://s3-media1.fl.yelpcdn.com/bphoto/75DzfD...</td>\n",
       "      <td>False</td>\n",
       "      <td>https://www.yelp.com/biz/jays-steak-and-hoagie...</td>\n",
       "      <td>120</td>\n",
       "      <td>[{'alias': 'cheesesteaks', 'title': 'Cheeseste...</td>\n",
       "      <td>4.5</td>\n",
       "      <td>{'latitude': 40.15905, 'longitude': -74.9331}</td>\n",
       "      <td>[delivery]</td>\n",
       "      <td>$</td>\n",
       "      <td>{'address1': '1205 Highland Ave', 'address2': ...</td>\n",
       "      <td>12157416555</td>\n",
       "      <td>(215) 741-6555</td>\n",
       "      <td>30525.673606</td>\n",
       "    </tr>\n",
       "    <tr>\n",
       "      <th>1099</th>\n",
       "      <td>YPLfRswyryjjW3VJa-SdaA</td>\n",
       "      <td>ishkabibbles-philadelphia</td>\n",
       "      <td>Ishkabibble's</td>\n",
       "      <td>https://s3-media2.fl.yelpcdn.com/bphoto/PkX4o3...</td>\n",
       "      <td>False</td>\n",
       "      <td>https://www.yelp.com/biz/ishkabibbles-philadel...</td>\n",
       "      <td>736</td>\n",
       "      <td>[{'alias': 'cheesesteaks', 'title': 'Cheeseste...</td>\n",
       "      <td>4.0</td>\n",
       "      <td>{'latitude': 39.9416787531078, 'longitude': -7...</td>\n",
       "      <td>[delivery]</td>\n",
       "      <td>$$</td>\n",
       "      <td>{'address1': '337 S St', 'address2': '', 'addr...</td>\n",
       "      <td>12159234337</td>\n",
       "      <td>(215) 923-4337</td>\n",
       "      <td>2337.230156</td>\n",
       "    </tr>\n",
       "  </tbody>\n",
       "</table>\n",
       "</div>"
      ],
      "text/plain": [
       "                          id                                    alias  \\\n",
       "1095  4wq9bzoCe3Mh0cPbYH1eDg                 maxs-steaks-philadelphia   \n",
       "1096  FHSbZ0-vZbbrMDWVpbyXgA                    delco-steaks-broomall   \n",
       "1097  kkcQYuF3w5iHnHMf0EnRhQ     joes-steaks-soda-shop-philadelphia-3   \n",
       "1098  38nwm38VsT5ABneQE-elxg  jays-steak-and-hoagie-joint-langhorne-3   \n",
       "1099  YPLfRswyryjjW3VJa-SdaA                ishkabibbles-philadelphia   \n",
       "\n",
       "                            name  \\\n",
       "1095                Max's Steaks   \n",
       "1096                DELCO Steaks   \n",
       "1097    Joe's Steaks + Soda Shop   \n",
       "1098  Jay's Steak & Hoagie Joint   \n",
       "1099               Ishkabibble's   \n",
       "\n",
       "                                              image_url  is_closed  \\\n",
       "1095  https://s3-media2.fl.yelpcdn.com/bphoto/OhGLUP...      False   \n",
       "1096  https://s3-media2.fl.yelpcdn.com/bphoto/RBt1c3...      False   \n",
       "1097  https://s3-media1.fl.yelpcdn.com/bphoto/5wjoux...      False   \n",
       "1098  https://s3-media1.fl.yelpcdn.com/bphoto/75DzfD...      False   \n",
       "1099  https://s3-media2.fl.yelpcdn.com/bphoto/PkX4o3...      False   \n",
       "\n",
       "                                                    url  review_count  \\\n",
       "1095  https://www.yelp.com/biz/maxs-steaks-philadelp...           708   \n",
       "1096  https://www.yelp.com/biz/delco-steaks-broomall...            79   \n",
       "1097  https://www.yelp.com/biz/joes-steaks-soda-shop...           386   \n",
       "1098  https://www.yelp.com/biz/jays-steak-and-hoagie...           120   \n",
       "1099  https://www.yelp.com/biz/ishkabibbles-philadel...           736   \n",
       "\n",
       "                                             categories  rating  \\\n",
       "1095  [{'alias': 'sandwiches', 'title': 'Sandwiches'...     4.0   \n",
       "1096  [{'alias': 'cheesesteaks', 'title': 'Cheeseste...     4.0   \n",
       "1097  [{'alias': 'cheesesteaks', 'title': 'Cheeseste...     4.5   \n",
       "1098  [{'alias': 'cheesesteaks', 'title': 'Cheeseste...     4.5   \n",
       "1099  [{'alias': 'cheesesteaks', 'title': 'Cheeseste...     4.0   \n",
       "\n",
       "                                            coordinates        transactions  \\\n",
       "1095   {'latitude': 40.009045, 'longitude': -75.150471}                  []   \n",
       "1096   {'latitude': 39.981967, 'longitude': -75.359919}  [pickup, delivery]   \n",
       "1097     {'latitude': 40.01854, 'longitude': -75.05816}  [pickup, delivery]   \n",
       "1098      {'latitude': 40.15905, 'longitude': -74.9331}          [delivery]   \n",
       "1099  {'latitude': 39.9416787531078, 'longitude': -7...          [delivery]   \n",
       "\n",
       "     price                                           location        phone  \\\n",
       "1095    $$  {'address1': '3653 Germantown Ave', 'address2'...  12152299048   \n",
       "1096   NaN  {'address1': '2567 West Chester Pike', 'addres...  16103561192   \n",
       "1097     $  {'address1': '6030 Torresdale Ave', 'address2'...  12155359405   \n",
       "1098     $  {'address1': '1205 Highland Ave', 'address2': ...  12157416555   \n",
       "1099    $$  {'address1': '337 S St', 'address2': '', 'addr...  12159234337   \n",
       "\n",
       "       display_phone      distance  \n",
       "1095  (215) 229-9048   6393.814388  \n",
       "1096  (610) 356-1192  16383.248494  \n",
       "1097  (215) 535-9405  12025.043452  \n",
       "1098  (215) 741-6555  30525.673606  \n",
       "1099  (215) 923-4337   2337.230156  "
      ]
     },
     "metadata": {},
     "output_type": "display_data"
    }
   ],
   "source": [
    "# load final results\n",
    "final_df = pd.read_json(JSON_FILE)\n",
    "display(final_df.head(), final_df.tail())"
   ]
  }
 ],
 "metadata": {
  "interpreter": {
   "hash": "6ebf1a1aa7d4c1bdcf5061ce4881f2fde13064ab71248d815ef2ac7713dd7565"
  },
  "kernelspec": {
   "display_name": "Python 3.7.12 ('dojo-env')",
   "language": "python",
   "name": "python3"
  },
  "language_info": {
   "codemirror_mode": {
    "name": "ipython",
    "version": 3
   },
   "file_extension": ".py",
   "mimetype": "text/x-python",
   "name": "python",
   "nbconvert_exporter": "python",
   "pygments_lexer": "ipython3",
   "version": "3.7.12"
  },
  "orig_nbformat": 4
 },
 "nbformat": 4,
 "nbformat_minor": 2
}
